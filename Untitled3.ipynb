{
 "cells": [
  {
   "cell_type": "code",
   "execution_count": 1,
   "id": "8b5c33de-e322-434e-993b-093dd4833215",
   "metadata": {},
   "outputs": [
    {
     "ename": "ModuleNotFoundError",
     "evalue": "No module named 'tensorflow'",
     "output_type": "error",
     "traceback": [
      "\u001b[1;31m---------------------------------------------------------------------------\u001b[0m",
      "\u001b[1;31mModuleNotFoundError\u001b[0m                       Traceback (most recent call last)",
      "Cell \u001b[1;32mIn[1], line 2\u001b[0m\n\u001b[0;32m      1\u001b[0m \u001b[38;5;66;03m# importing tensorflow\u001b[39;00m\n\u001b[1;32m----> 2\u001b[0m \u001b[38;5;28;01mimport\u001b[39;00m \u001b[38;5;21;01mtensorflow\u001b[39;00m \u001b[38;5;28;01mas\u001b[39;00m \u001b[38;5;21;01mtf\u001b[39;00m\n\u001b[0;32m      4\u001b[0m \u001b[38;5;66;03m# creating nodes in computation graph\u001b[39;00m\n\u001b[0;32m      5\u001b[0m node \u001b[38;5;241m=\u001b[39m tf\u001b[38;5;241m.\u001b[39mVariable(tf\u001b[38;5;241m.\u001b[39mzeros([\u001b[38;5;241m2\u001b[39m,\u001b[38;5;241m2\u001b[39m]))\n",
      "\u001b[1;31mModuleNotFoundError\u001b[0m: No module named 'tensorflow'"
     ]
    }
   ],
   "source": [
    "# importing tensorflow\n",
    "import tensorflow as tf\n",
    "\n",
    "# creating nodes in computation graph\n",
    "node = tf.Variable(tf.zeros([2,2]))\n",
    "\n",
    "# running computation graph\n",
    "with tf.Session() as sess:\n",
    "\n",
    "\t# initialize all global variables \n",
    "\tsess.run(tf.global_variables_initializer())\n",
    "\n",
    "\t# evaluating node\n",
    "\tprint(\"Tensor value before addition:\\n\",sess.run(node))\n",
    "\n",
    "\t# elementwise addition to tensor\n",
    "\tnode = node.assign(node + tf.ones([2,2]))\n",
    "\n",
    "\t# evaluate node again\n",
    "\tprint(\"Tensor value after addition:\\n\", sess.run(node))\n"
   ]
  },
  {
   "cell_type": "code",
   "execution_count": null,
   "id": "60e0a7fd-b74d-4fe0-a13c-3c840b0804d4",
   "metadata": {},
   "outputs": [],
   "source": []
  }
 ],
 "metadata": {
  "kernelspec": {
   "display_name": "Python 3 (ipykernel)",
   "language": "python",
   "name": "python3"
  },
  "language_info": {
   "codemirror_mode": {
    "name": "ipython",
    "version": 3
   },
   "file_extension": ".py",
   "mimetype": "text/x-python",
   "name": "python",
   "nbconvert_exporter": "python",
   "pygments_lexer": "ipython3",
   "version": "3.12.7"
  }
 },
 "nbformat": 4,
 "nbformat_minor": 5
}
